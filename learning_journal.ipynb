{
 "metadata": {
  "name": "",
  "signature": "sha256:c0aa0a6bb56c0b4aff9d396b8d921e2a9f4cfb77097a3501f25c3552faf56c2a"
 },
 "nbformat": 3,
 "nbformat_minor": 0,
 "worksheets": [
  {
   "cells": [
    {
     "cell_type": "markdown",
     "metadata": {},
     "source": [
      "# Journal \n",
      "\n",
      "by /u/fabreeze <br>\n",
      "created on Dec 8, 2014"
     ]
    },
    {
     "cell_type": "markdown",
     "metadata": {},
     "source": [
      "##### Info about version control \n",
      "\n",
      "[git syntax tutorial](http://nbviewer.ipython.org/github/demotu/BMC/blob/master/notebooks/VersionControlGitGitHub.ipynb)"
     ]
    },
    {
     "cell_type": "markdown",
     "metadata": {},
     "source": [
      "To clone this repo: <br>\n",
      "> git clone http://www.github.com/fabreeze/fabreeze.git"
     ]
    },
    {
     "cell_type": "markdown",
     "metadata": {},
     "source": [
      "### Save and commit changes to remove repository (github) \n",
      "check terminal to input UN/PW"
     ]
    },
    {
     "cell_type": "code",
     "collapsed": false,
     "input": [
      "%%bash \n",
      "git commit -a -m \"saving notebook\"\n",
      "git push origin master"
     ],
     "language": "python",
     "metadata": {},
     "outputs": [
      {
       "output_type": "stream",
       "stream": "stdout",
       "text": [
        "[master d4f9b50] saving notebook\n",
        " 2 files changed, 92 insertions(+), 69 deletions(-)\n"
       ]
      },
      {
       "output_type": "stream",
       "stream": "stderr",
       "text": [
        "To https://github.com/fabreeze/fabreeze.git\n",
        "   2812c04..d4f9b50  master -> master\n"
       ]
      }
     ],
     "prompt_number": 100
    },
    {
     "cell_type": "markdown",
     "metadata": {},
     "source": [
      "### Save and hard reset local to mirror remote \n",
      "[how-to source](http://stackoverflow.com/questions/1628088/how-to-reset-my-local-repository-to-be-just-like-the-remote-repository-head)"
     ]
    },
    {
     "cell_type": "code",
     "collapsed": false,
     "input": [
      "%%bash\n",
      "git commit -a -m \"Saving my work, just in case\"\n",
      "git branch savedwork\n",
      "git fetch origin\n",
      "git reset --hard origin/master"
     ],
     "language": "python",
     "metadata": {},
     "outputs": [
      {
       "output_type": "stream",
       "stream": "stdout",
       "text": [
        "On branch master\n",
        "Your branch is up-to-date with 'origin/master'.\n",
        "\n",
        "Untracked files:\n",
        "\t.ipynb_checkpoints/\n",
        "\n",
        "nothing added to commit but untracked files present\n",
        "HEAD is now at 20241cb saving notebook\n"
       ]
      },
      {
       "output_type": "stream",
       "stream": "stderr",
       "text": [
        "fatal: A branch named 'savedwork' already exists.\n"
       ]
      }
     ],
     "prompt_number": 9
    },
    {
     "cell_type": "markdown",
     "metadata": {},
     "source": [
      "#### To install ipython notebook\n",
      "> sudo apt-get install python-pip <br>\n",
      "> pip install \"ipython[all]\""
     ]
    },
    {
     "cell_type": "markdown",
     "metadata": {},
     "source": [
      "To start an ipython session: \n",
      "> ipython notebook --script"
     ]
    },
    {
     "cell_type": "markdown",
     "metadata": {},
     "source": [
      "#### Useful extensions"
     ]
    },
    {
     "cell_type": "markdown",
     "metadata": {},
     "source": [
      "Version Information Extension\n",
      "> %install_ext http://raw.github.com/jrjohansson/version_information/master/version_information.py"
     ]
    },
    {
     "cell_type": "code",
     "collapsed": false,
     "input": [
      "%load_ext version_information"
     ],
     "language": "python",
     "metadata": {},
     "outputs": []
    },
    {
     "cell_type": "code",
     "collapsed": false,
     "input": [
      "%version_information"
     ],
     "language": "python",
     "metadata": {},
     "outputs": [
      {
       "html": [
        "<table><tr><th>Software</th><th>Version</th></tr><tr><td>Python</td><td>2.7.8 64bit [GCC 4.2.1 Compatible Apple LLVM 6.0 (clang-600.0.54)]</td></tr><tr><td>IPython</td><td>2.3.1</td></tr><tr><td>OS</td><td>Darwin 14.0.0 x86_64 i386 64bit</td></tr><tr><td colspan='2'>Mon Dec 08 23:11:57 2014 CST</td></tr></table>"
       ],
       "json": [
        "{\"Software versions\": [{\"version\": \"2.7.8 64bit [GCC 4.2.1 Compatible Apple LLVM 6.0 (clang-600.0.54)]\", \"module\": \"Python\"}, {\"version\": \"2.3.1\", \"module\": \"IPython\"}, {\"version\": \"Darwin 14.0.0 x86_64 i386 64bit\", \"module\": \"OS\"}]}"
       ],
       "latex": [
        "\\begin{tabular}{|l|l|}\\hline\n",
        "{\\bf Software} & {\\bf Version} \\\\ \\hline\\hline\n",
        "Python & 2.7.8 64bit [GCC 4.2.1 Compatible Apple LLVM 6.0 (clang-600.0.54)] \\\\ \\hline\n",
        "IPython & 2.3.1 \\\\ \\hline\n",
        "OS & Darwin 14.0.0 x86\\_64 i386 64bit \\\\ \\hline\n",
        "\\hline \\multicolumn{2}{|l|}{Mon Dec 08 23:11:57 2014 CST} \\\\ \\hline\n",
        "\\end{tabular}\n"
       ],
       "metadata": {},
       "output_type": "pyout",
       "prompt_number": 3,
       "text": [
        "Software versions\n",
        "Python 2.7.8 64bit [GCC 4.2.1 Compatible Apple LLVM 6.0 (clang-600.0.54)]\n",
        "IPython 2.3.1\n",
        "OS Darwin 14.0.0 x86_64 i386 64bit\n",
        "Mon Dec 08 23:11:57 2014 CST"
       ]
      }
     ],
     "prompt_number": 3
    },
    {
     "cell_type": "code",
     "collapsed": false,
     "input": [
      "!date"
     ],
     "language": "python",
     "metadata": {},
     "outputs": [
      {
       "output_type": "stream",
       "stream": "stdout",
       "text": [
        "Tue Dec  9 18:52:08 CST 2014\r\n"
       ]
      }
     ],
     "prompt_number": 2
    },
    {
     "cell_type": "markdown",
     "metadata": {},
     "source": [
      "### Learning Resources\n",
      "\n",
      "[IPython Tips and Tricks from Radiometry Community](http://nbviewer.ipython.org/github/NelisW/ComputationalRadiometry/blob/master/01-IPythonHintsAndTips.ipynb)"
     ]
    },
    {
     "cell_type": "markdown",
     "metadata": {},
     "source": [
      "[python for econometrics, stats and data analysis](https://www.kevinsheppard.com/images/0/09/Python_introduction.pdf)"
     ]
    },
    {
     "cell_type": "markdown",
     "metadata": {},
     "source": [
      "## [Codeacademy](http://www.codecademy.com/en/tracks/python)"
     ]
    },
    {
     "cell_type": "markdown",
     "metadata": {},
     "source": [
      "##### pig latin module"
     ]
    },
    {
     "cell_type": "code",
     "collapsed": false,
     "input": [
      "original = raw_input(\"input word:\")\n",
      "word = original.lower()\n",
      "first = word[0]\n",
      "piglatin = word[1:len(word)]+first+\"ay\"\n",
      "if len(original)>0 and original.isalpha():\n",
      "    print piglatin\n",
      "else:\n",
      "    print \"empty\""
     ],
     "language": "python",
     "metadata": {},
     "outputs": [
      {
       "name": "stdout",
       "output_type": "stream",
       "stream": "stdout",
       "text": [
        "input word:Hello\n"
       ]
      },
      {
       "output_type": "stream",
       "stream": "stdout",
       "text": [
        "ellohay\n"
       ]
      }
     ],
     "prompt_number": 14
    },
    {
     "cell_type": "markdown",
     "metadata": {},
     "source": [
      "Try to adapt for protocol writing"
     ]
    },
    {
     "cell_type": "markdown",
     "metadata": {},
     "source": [
      "[Mistune](https://github.com/lepture/mistune) is a fast Markdown parser\n",
      "> pip install mistune\n"
     ]
    },
    {
     "cell_type": "code",
     "collapsed": false,
     "input": [
      "import mistune\n",
      "\n",
      "mistune.markdown('I am using **markdown**')\n",
      "\n"
     ],
     "language": "python",
     "metadata": {},
     "outputs": [
      {
       "metadata": {},
       "output_type": "pyout",
       "prompt_number": 36,
       "text": [
        "'<p>I am using <strong>markdown</strong></p>\\n'"
       ]
      }
     ],
     "prompt_number": 36
    },
    {
     "cell_type": "markdown",
     "metadata": {},
     "source": [
      "##### Dynamic display output (python, markdown, html mix)"
     ]
    },
    {
     "cell_type": "code",
     "collapsed": false,
     "input": [
      "from IPython.display import display, HTML \n",
      "var=31\n",
      "display(HTML(mistune.markdown(\n",
      "### begin write area. You need \"\"\" for multiline strings\n",
      "\"\"\"\n",
      "# Example   \n",
      " 1. one\n",
      " 2. two\n",
      " 3. three <br>\n",
      "~~some break~~\n",
      "\"\"\"\n",
      "\n",
      "\"\"\"\n",
      " 4. four\n",
      "\"\"\"\n",
      "\n",
      "### end   write area\n",
      "))) #end display & html tags"
     ],
     "language": "python",
     "metadata": {},
     "outputs": [
      {
       "html": [
        "<h1>Example</h1>\n",
        "<ol>\n",
        "<li>one</li>\n",
        "<li>two</li>\n",
        "<li><p>three <br>\n",
        "<del>some break</del></p>\n",
        "</li>\n",
        "<li><p>four</p>\n",
        "</li>\n",
        "</ol>\n"
       ],
       "metadata": {},
       "output_type": "display_data",
       "text": [
        "<IPython.core.display.HTML at 0x104c71f90>"
       ]
      }
     ],
     "prompt_number": 98
    },
    {
     "cell_type": "markdown",
     "metadata": {},
     "source": [
      "original = raw_input(\"input word:\")\n",
      "word = original.lower()\n",
      "first = word[0]\n",
      "piglatin = word[1:len(word)]+first+\"ay\"\n",
      "if len(original)>0 and original.isalpha():\n",
      "    print piglatin\n",
      "else:\n",
      "    print \"empty\""
     ]
    },
    {
     "cell_type": "code",
     "collapsed": false,
     "input": [],
     "language": "python",
     "metadata": {},
     "outputs": []
    }
   ],
   "metadata": {}
  }
 ]
}