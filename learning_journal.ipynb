{
 "metadata": {
  "name": "",
  "signature": "sha256:eca0f6899515bb3dee8e296f3d3ed31dbdecf764862fd595c6f0d3e69365019a"
 },
 "nbformat": 3,
 "nbformat_minor": 0,
 "worksheets": [
  {
   "cells": [
    {
     "cell_type": "markdown",
     "metadata": {},
     "source": [
      "# Journal \n",
      "\n",
      "by /u/fabreeze <br>\n",
      "created on Dec 8, 2014"
     ]
    },
    {
     "cell_type": "markdown",
     "metadata": {},
     "source": [
      "##### Info about version control \n",
      "\n",
      "[git syntax tutorial](http://nbviewer.ipython.org/github/demotu/BMC/blob/master/notebooks/VersionControlGitGitHub.ipynb)"
     ]
    },
    {
     "cell_type": "markdown",
     "metadata": {},
     "source": [
      "To clone this repo: <br>\n",
      "> git clone http://www.github.com/fabreeze/fabreeze.git"
     ]
    },
    {
     "cell_type": "markdown",
     "metadata": {},
     "source": [
      "### Save and commit changes to remove repository (github) \n",
      "check terminal to input UN/PW"
     ]
    },
    {
     "cell_type": "code",
     "collapsed": false,
     "input": [
      "%%bash \n",
      "git commit -a -m \"saving notebook\"\n",
      "git push origin master"
     ],
     "language": "python",
     "metadata": {},
     "outputs": [
      {
       "output_type": "stream",
       "stream": "stdout",
       "text": [
        "[master a8d9a32] saving notebook\n",
        " 2 files changed, 27 insertions(+), 7 deletions(-)\n"
       ]
      },
      {
       "output_type": "stream",
       "stream": "stderr",
       "text": [
        "To https://github.com/fabreeze/fabreeze.git\n",
        "   20241cb..a8d9a32  master -> master\n"
       ]
      }
     ],
     "prompt_number": 20
    },
    {
     "cell_type": "markdown",
     "metadata": {},
     "source": [
      "### Save and hard reset local to mirror remote \n",
      "[how-to source](http://stackoverflow.com/questions/1628088/how-to-reset-my-local-repository-to-be-just-like-the-remote-repository-head)"
     ]
    },
    {
     "cell_type": "code",
     "collapsed": false,
     "input": [
      "%%bash\n",
      "git commit -a -m \"Saving my work, just in case\"\n",
      "git branch savedwork\n",
      "git fetch origin\n",
      "git reset --hard origin/master"
     ],
     "language": "python",
     "metadata": {},
     "outputs": [
      {
       "output_type": "stream",
       "stream": "stdout",
       "text": [
        "On branch master\n",
        "Your branch is up-to-date with 'origin/master'.\n",
        "\n",
        "Untracked files:\n",
        "\t.ipynb_checkpoints/\n",
        "\n",
        "nothing added to commit but untracked files present\n",
        "HEAD is now at 20241cb saving notebook\n"
       ]
      },
      {
       "output_type": "stream",
       "stream": "stderr",
       "text": [
        "fatal: A branch named 'savedwork' already exists.\n"
       ]
      }
     ],
     "prompt_number": 9
    },
    {
     "cell_type": "markdown",
     "metadata": {},
     "source": [
      "#### To install ipython notebook\n",
      "> sudo apt-get install python-pip <br>\n",
      "> pip install \"ipython[all]\""
     ]
    },
    {
     "cell_type": "markdown",
     "metadata": {},
     "source": [
      "To start an ipython session: \n",
      "> ipython notebook --script"
     ]
    },
    {
     "cell_type": "markdown",
     "metadata": {},
     "source": [
      "#### Useful extensions"
     ]
    },
    {
     "cell_type": "markdown",
     "metadata": {},
     "source": [
      "Version Information Extension\n",
      "> %install_ext http://raw.github.com/jrjohansson/version_information/master/version_information.py"
     ]
    },
    {
     "cell_type": "code",
     "collapsed": false,
     "input": [
      "%load_ext version_information"
     ],
     "language": "python",
     "metadata": {},
     "outputs": []
    },
    {
     "cell_type": "code",
     "collapsed": false,
     "input": [
      "%version_information"
     ],
     "language": "python",
     "metadata": {},
     "outputs": [
      {
       "html": [
        "<table><tr><th>Software</th><th>Version</th></tr><tr><td>Python</td><td>2.7.8 64bit [GCC 4.2.1 Compatible Apple LLVM 6.0 (clang-600.0.54)]</td></tr><tr><td>IPython</td><td>2.3.1</td></tr><tr><td>OS</td><td>Darwin 14.0.0 x86_64 i386 64bit</td></tr><tr><td colspan='2'>Mon Dec 08 23:11:57 2014 CST</td></tr></table>"
       ],
       "json": [
        "{\"Software versions\": [{\"version\": \"2.7.8 64bit [GCC 4.2.1 Compatible Apple LLVM 6.0 (clang-600.0.54)]\", \"module\": \"Python\"}, {\"version\": \"2.3.1\", \"module\": \"IPython\"}, {\"version\": \"Darwin 14.0.0 x86_64 i386 64bit\", \"module\": \"OS\"}]}"
       ],
       "latex": [
        "\\begin{tabular}{|l|l|}\\hline\n",
        "{\\bf Software} & {\\bf Version} \\\\ \\hline\\hline\n",
        "Python & 2.7.8 64bit [GCC 4.2.1 Compatible Apple LLVM 6.0 (clang-600.0.54)] \\\\ \\hline\n",
        "IPython & 2.3.1 \\\\ \\hline\n",
        "OS & Darwin 14.0.0 x86\\_64 i386 64bit \\\\ \\hline\n",
        "\\hline \\multicolumn{2}{|l|}{Mon Dec 08 23:11:57 2014 CST} \\\\ \\hline\n",
        "\\end{tabular}\n"
       ],
       "metadata": {},
       "output_type": "pyout",
       "prompt_number": 3,
       "text": [
        "Software versions\n",
        "Python 2.7.8 64bit [GCC 4.2.1 Compatible Apple LLVM 6.0 (clang-600.0.54)]\n",
        "IPython 2.3.1\n",
        "OS Darwin 14.0.0 x86_64 i386 64bit\n",
        "Mon Dec 08 23:11:57 2014 CST"
       ]
      }
     ],
     "prompt_number": 3
    },
    {
     "cell_type": "code",
     "collapsed": false,
     "input": [
      "!date"
     ],
     "language": "python",
     "metadata": {},
     "outputs": [
      {
       "output_type": "stream",
       "stream": "stdout",
       "text": [
        "Tue Dec  9 18:52:08 CST 2014\r\n"
       ]
      }
     ],
     "prompt_number": 2
    },
    {
     "cell_type": "markdown",
     "metadata": {},
     "source": [
      "### Learning Resources\n",
      "\n",
      "[IPython Tips and Tricks from Radiometry Community](http://nbviewer.ipython.org/github/NelisW/ComputationalRadiometry/blob/master/01-IPythonHintsAndTips.ipynb)"
     ]
    },
    {
     "cell_type": "code",
     "collapsed": false,
     "input": [],
     "language": "python",
     "metadata": {},
     "outputs": []
    },
    {
     "cell_type": "markdown",
     "metadata": {},
     "source": [
      "## [Codeacademy](http://www.codecademy.com/en/tracks/python)"
     ]
    },
    {
     "cell_type": "markdown",
     "metadata": {},
     "source": [
      "##### pig latin module"
     ]
    },
    {
     "cell_type": "code",
     "collapsed": false,
     "input": [
      "original = raw_input(\"input word:\")\n",
      "word = original.lower()\n",
      "first = word[0]\n",
      "piglatin = word[1:len(word)]+first+\"ay\"\n",
      "if len(original)>0 and original.isalpha():\n",
      "    print piglatin\n",
      "else:\n",
      "    print \"empty\""
     ],
     "language": "python",
     "metadata": {},
     "outputs": [
      {
       "name": "stdout",
       "output_type": "stream",
       "stream": "stdout",
       "text": [
        "input word:Hello\n"
       ]
      },
      {
       "output_type": "stream",
       "stream": "stdout",
       "text": [
        "ellohay\n"
       ]
      }
     ],
     "prompt_number": 14
    },
    {
     "cell_type": "markdown",
     "metadata": {},
     "source": [
      "Try to adapt for protocol writing"
     ]
    },
    {
     "cell_type": "markdown",
     "metadata": {},
     "source": [
      "[Mistune](https://github.com/lepture/mistune) is a fast Markdown parser\n",
      "> pip install mistune\n"
     ]
    },
    {
     "cell_type": "code",
     "collapsed": false,
     "input": [
      "import mistune\n",
      "\n",
      "mistune.markdown('I am using **markdown**')\n",
      "\n"
     ],
     "language": "python",
     "metadata": {},
     "outputs": [
      {
       "metadata": {},
       "output_type": "pyout",
       "prompt_number": 36,
       "text": [
        "'<p>I am using <strong>markdown</strong></p>\\n'"
       ]
      }
     ],
     "prompt_number": 36
    },
    {
     "cell_type": "code",
     "collapsed": false,
     "input": [
      "mistune.Renderer('<p>I am using <strong>markdown</strong></p>\\n')"
     ],
     "language": "python",
     "metadata": {},
     "outputs": [
      {
       "ename": "TypeError",
       "evalue": "__init__() takes exactly 1 argument (2 given)",
       "output_type": "pyerr",
       "traceback": [
        "\u001b[0;31m---------------------------------------------------------------------------\u001b[0m\n\u001b[0;31mTypeError\u001b[0m                                 Traceback (most recent call last)",
        "\u001b[0;32m<ipython-input-37-5ae887fb4998>\u001b[0m in \u001b[0;36m<module>\u001b[0;34m()\u001b[0m\n\u001b[0;32m----> 1\u001b[0;31m \u001b[0mmistune\u001b[0m\u001b[0;34m.\u001b[0m\u001b[0mRenderer\u001b[0m\u001b[0;34m(\u001b[0m\u001b[0;34m'<p>I am using <strong>markdown</strong></p>\\n'\u001b[0m\u001b[0;34m)\u001b[0m\u001b[0;34m\u001b[0m\u001b[0m\n\u001b[0m",
        "\u001b[0;31mTypeError\u001b[0m: __init__() takes exactly 1 argument (2 given)"
       ]
      }
     ],
     "prompt_number": 37
    },
    {
     "cell_type": "code",
     "collapsed": false,
     "input": [
      "import mistune\n",
      "from pygments import highlight\n",
      "from pygments.lexers import get_lexer_by_name\n",
      "from pygments.formatters import HtmlFormatter\n",
      "\n",
      "class MyRenderer(mistune.Renderer):\n",
      "    def block_code(self, code, lang):\n",
      "        if not lang:\n",
      "            return '\\n<pre><code>%s</code></pre>\\n' % \\\n",
      "                mistune.escape(code)\n",
      "        lexer = get_lexer_by_name(lang, stripall=True)\n",
      "        formatter = HtmlFormatter()\n",
      "        return highlight(code, lexer, formatter)\n",
      "\n",
      "renderer = MyRenderer()\n",
      "md = mistune.Markdown(renderer=renderer)\n",
      "print(md.render('Some **Markdown** text.'))"
     ],
     "language": "python",
     "metadata": {},
     "outputs": [
      {
       "output_type": "stream",
       "stream": "stdout",
       "text": [
        "<p>Some <strong>Markdown</strong> text.</p>\n",
        "\n"
       ]
      }
     ],
     "prompt_number": 39
    },
    {
     "cell_type": "code",
     "collapsed": false,
     "input": [],
     "language": "python",
     "metadata": {},
     "outputs": []
    }
   ],
   "metadata": {}
  }
 ]
}