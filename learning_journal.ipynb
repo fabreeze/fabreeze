{
 "metadata": {
  "name": "",
  "signature": "sha256:d332538caff0ec7d0edc277fa76744fee5c142e2472393ec1c4cd9028977ae4a"
 },
 "nbformat": 3,
 "nbformat_minor": 0,
 "worksheets": [
  {
   "cells": [
    {
     "cell_type": "markdown",
     "metadata": {},
     "source": [
      "# Journal \n",
      "\n",
      "by /u/fabreeze <br>\n",
      "created on Dec 8, 2014"
     ]
    },
    {
     "cell_type": "markdown",
     "metadata": {},
     "source": [
      "##### Info about version control \n",
      "\n",
      "[git syntax tutorial](http://nbviewer.ipython.org/github/demotu/BMC/blob/master/notebooks/VersionControlGitGitHub.ipynb)"
     ]
    },
    {
     "cell_type": "markdown",
     "metadata": {},
     "source": [
      "To clone this repo: <br>\n",
      "> git clone http://www.github.com/fabreeze/fabreeze.git"
     ]
    },
    {
     "cell_type": "markdown",
     "metadata": {},
     "source": [
      "### Save and commit changes to remove repository (github) \n",
      "check terminal to input UN/PW"
     ]
    },
    {
     "cell_type": "code",
     "collapsed": false,
     "input": [
      "%%bash \n",
      "git commit -a -m \"saving notebook\"\n",
      "git push origin master"
     ],
     "language": "python",
     "metadata": {},
     "outputs": [
      {
       "output_type": "stream",
       "stream": "stdout",
       "text": [
        "[master d06ddbf] saving notebook\n",
        " 2 files changed, 46 insertions(+), 115 deletions(-)\n"
       ]
      },
      {
       "output_type": "stream",
       "stream": "stderr",
       "text": [
        "To https://github.com/fabreeze/fabreeze.git\n",
        "   3677074..d06ddbf  master -> master\n"
       ]
      }
     ],
     "prompt_number": 9
    },
    {
     "cell_type": "code",
     "collapsed": false,
     "input": [
      "### Save and hard reset local to mirror remote \n",
      "[how-to source]()"
     ],
     "language": "python",
     "metadata": {},
     "outputs": []
    },
    {
     "cell_type": "markdown",
     "metadata": {},
     "source": [
      "#### To install ipython notebook\n",
      "> sudo apt-get install python-pip <br>\n",
      "> pip install \"ipython[all]\""
     ]
    },
    {
     "cell_type": "markdown",
     "metadata": {},
     "source": [
      "To start an ipython session: \n",
      "> ipython notebook --script"
     ]
    },
    {
     "cell_type": "markdown",
     "metadata": {},
     "source": [
      "#### Useful extensions"
     ]
    },
    {
     "cell_type": "markdown",
     "metadata": {},
     "source": [
      "Version Information Extension\n",
      "> %install_ext http://raw.github.com/jrjohansson/version_information/master/version_information.py"
     ]
    },
    {
     "cell_type": "code",
     "collapsed": false,
     "input": [
      "%load_ext version_information"
     ],
     "language": "python",
     "metadata": {},
     "outputs": []
    },
    {
     "cell_type": "code",
     "collapsed": false,
     "input": [
      "%version_information"
     ],
     "language": "python",
     "metadata": {},
     "outputs": [
      {
       "html": [
        "<table><tr><th>Software</th><th>Version</th></tr><tr><td>Python</td><td>2.7.8 64bit [GCC 4.2.1 Compatible Apple LLVM 6.0 (clang-600.0.54)]</td></tr><tr><td>IPython</td><td>2.3.1</td></tr><tr><td>OS</td><td>Darwin 14.0.0 x86_64 i386 64bit</td></tr><tr><td colspan='2'>Mon Dec 08 23:11:57 2014 CST</td></tr></table>"
       ],
       "json": [
        "{\"Software versions\": [{\"version\": \"2.7.8 64bit [GCC 4.2.1 Compatible Apple LLVM 6.0 (clang-600.0.54)]\", \"module\": \"Python\"}, {\"version\": \"2.3.1\", \"module\": \"IPython\"}, {\"version\": \"Darwin 14.0.0 x86_64 i386 64bit\", \"module\": \"OS\"}]}"
       ],
       "latex": [
        "\\begin{tabular}{|l|l|}\\hline\n",
        "{\\bf Software} & {\\bf Version} \\\\ \\hline\\hline\n",
        "Python & 2.7.8 64bit [GCC 4.2.1 Compatible Apple LLVM 6.0 (clang-600.0.54)] \\\\ \\hline\n",
        "IPython & 2.3.1 \\\\ \\hline\n",
        "OS & Darwin 14.0.0 x86\\_64 i386 64bit \\\\ \\hline\n",
        "\\hline \\multicolumn{2}{|l|}{Mon Dec 08 23:11:57 2014 CST} \\\\ \\hline\n",
        "\\end{tabular}\n"
       ],
       "metadata": {},
       "output_type": "pyout",
       "prompt_number": 3,
       "text": [
        "Software versions\n",
        "Python 2.7.8 64bit [GCC 4.2.1 Compatible Apple LLVM 6.0 (clang-600.0.54)]\n",
        "IPython 2.3.1\n",
        "OS Darwin 14.0.0 x86_64 i386 64bit\n",
        "Mon Dec 08 23:11:57 2014 CST"
       ]
      }
     ],
     "prompt_number": 3
    },
    {
     "cell_type": "code",
     "collapsed": false,
     "input": [
      "!date"
     ],
     "language": "python",
     "metadata": {},
     "outputs": [
      {
       "output_type": "stream",
       "stream": "stdout",
       "text": [
        "Tue Dec  9 18:52:08 CST 2014\r\n"
       ]
      }
     ],
     "prompt_number": 2
    },
    {
     "cell_type": "markdown",
     "metadata": {},
     "source": [
      "## [Codeacademy](http://www.codecademy.com/en/tracks/python)"
     ]
    },
    {
     "cell_type": "markdown",
     "metadata": {},
     "source": [
      "##### pig latin module"
     ]
    },
    {
     "cell_type": "code",
     "collapsed": false,
     "input": [
      "original = raw_input(\"input word:\")\n",
      "word = original.lower()\n",
      "first = word[0]\n",
      "piglatin = word[1:len(word)]+first+\"ay\"\n",
      "if len(original)>0 and original.isalpha():\n",
      "    print piglatin\n",
      "else:\n",
      "    print \"empty\""
     ],
     "language": "python",
     "metadata": {},
     "outputs": [
      {
       "name": "stdout",
       "output_type": "stream",
       "stream": "stdout",
       "text": [
        "input word:Hello\n"
       ]
      },
      {
       "output_type": "stream",
       "stream": "stdout",
       "text": [
        "ellohay\n"
       ]
      }
     ],
     "prompt_number": 14
    },
    {
     "cell_type": "markdown",
     "metadata": {},
     "source": [
      "Try to adapt for protocol writing"
     ]
    },
    {
     "cell_type": "code",
     "collapsed": false,
     "input": [],
     "language": "python",
     "metadata": {},
     "outputs": []
    }
   ],
   "metadata": {}
  }
 ]
}