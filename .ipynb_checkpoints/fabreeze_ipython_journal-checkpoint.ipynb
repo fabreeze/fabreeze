{
 "metadata": {
  "name": "",
  "signature": "sha256:e4a93f3255026d1963e3a82d01727ecb5b9fdf831a30dc8744deec80ea7c9bdd"
 },
 "nbformat": 3,
 "nbformat_minor": 0,
 "worksheets": [
  {
   "cells": [
    {
     "cell_type": "markdown",
     "metadata": {},
     "source": [
      "# Journal \n",
      "\n",
      "by /u/fabreeze <br>\n",
      "created on Dec 8, 2014"
     ]
    },
    {
     "cell_type": "markdown",
     "metadata": {},
     "source": [
      "##### Info about version control \n",
      "\n",
      "[git syntax tutorial](http://nbviewer.ipython.org/github/demotu/BMC/blob/master/notebooks/VersionControlGitGitHub.ipynb)"
     ]
    },
    {
     "cell_type": "markdown",
     "metadata": {},
     "source": [
      "To clone this repo: <br>\n",
      "> git clone http://www.github.com/fabreeze/fabreeze.git"
     ]
    },
    {
     "cell_type": "markdown",
     "metadata": {},
     "source": [
      "To install ipython notebook\n",
      "> sudo apt-get install python-pip <br>\n",
      "> pip install \"ipython[all]\""
     ]
    },
    {
     "cell_type": "markdown",
     "metadata": {},
     "source": [
      "To start an ipython session: \n",
      "> ipython notebook --script"
     ]
    },
    {
     "cell_type": "markdown",
     "metadata": {},
     "source": [
      "#### Useful extensions"
     ]
    },
    {
     "cell_type": "markdown",
     "metadata": {},
     "source": [
      "Version Information Extension\n",
      "> %install_ext http://raw.github.com/jrjohansson/version_information/master/version_information.py"
     ]
    },
    {
     "cell_type": "code",
     "collapsed": false,
     "input": [
      "%load_ext version_information\n",
      "%version_information"
     ],
     "language": "python",
     "metadata": {},
     "outputs": []
    },
    {
     "cell_type": "code",
     "collapsed": false,
     "input": [
      "%%bash\n",
      "git add journal.ipynb\n",
      "git commit"
     ],
     "language": "python",
     "metadata": {},
     "outputs": []
    },
    {
     "cell_type": "code",
     "collapsed": false,
     "input": [],
     "language": "python",
     "metadata": {},
     "outputs": []
    }
   ],
   "metadata": {}
  }
 ]
}