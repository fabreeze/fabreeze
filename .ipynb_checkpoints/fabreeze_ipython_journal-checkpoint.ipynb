{
 "metadata": {
  "name": "",
  "signature": "sha256:194d8dedc5da1b78ffbce43ed283cdc5a8ee93de07958941523b106ecba9540c"
 },
 "nbformat": 3,
 "nbformat_minor": 0,
 "worksheets": [
  {
   "cells": [
    {
     "cell_type": "markdown",
     "metadata": {},
     "source": [
      "# Journal \n",
      "\n",
      "by /u/fabreeze <br>\n",
      "created on Dec 8, 2014"
     ]
    },
    {
     "cell_type": "markdown",
     "metadata": {},
     "source": [
      "##### Info about version control \n",
      "\n",
      "[git syntax tutorial](http://nbviewer.ipython.org/github/demotu/BMC/blob/master/notebooks/VersionControlGitGitHub.ipynb)"
     ]
    },
    {
     "cell_type": "markdown",
     "metadata": {},
     "source": [
      "file location: http://www.github.com/fabreeze/fabreeze.git"
     ]
    },
    {
     "cell_type": "code",
     "collapsed": false,
     "input": [
      "#### Entry 1\n",
      "!date"
     ],
     "language": "python",
     "metadata": {},
     "outputs": []
    },
    {
     "cell_type": "code",
     "collapsed": false,
     "input": [
      "%%bash\n",
      "git add journal.ipynb\n",
      "git commit"
     ],
     "language": "python",
     "metadata": {},
     "outputs": []
    },
    {
     "cell_type": "code",
     "collapsed": false,
     "input": [],
     "language": "python",
     "metadata": {},
     "outputs": []
    }
   ],
   "metadata": {}
  }
 ]
}